{
 "cells": [
  {
   "cell_type": "code",
   "execution_count": 1,
   "metadata": {},
   "outputs": [],
   "source": [
    "import pandas as pd\n",
    "import os\n",
    "import re"
   ]
  },
  {
   "cell_type": "code",
   "execution_count": 2,
   "metadata": {},
   "outputs": [],
   "source": [
    "# Funzione per aprire i file in una directory e ordinarli\n",
    "def open_files(directory):\n",
    "    files = os.listdir(directory)\n",
    "    files.sort()\n",
    "    return files\n",
    "\n",
    "# Funzione per estrarre la figura retorica dalla stringa\n",
    "def extract_figure(text):\n",
    "    match = re.search(r\"that's why is an example of\\s+(.*)\", str(text), re.IGNORECASE)\n",
    "    if match:\n",
    "        figure = match.group(1).strip().rstrip(\".\")\n",
    "        figure = figure.upper()  # converto in maiuscolo\n",
    "        return figure\n",
    "    return \"\""
   ]
  },
  {
   "cell_type": "code",
   "execution_count": 3,
   "metadata": {},
   "outputs": [
    {
     "name": "stdout",
     "output_type": "stream",
     "text": [
      "Processing model: LLaMAntino-3-ANITA-8B-Inst-DPO-ITA\n",
      "Processing model: Llama-3.1-8B-Instruct\n",
      "Processing model: Minerva-7B-instruct-v1.0\n",
      "Processing model: Ministral-8B-Instruct-2410\n",
      "Processing model: Qwen2.5-7B-Instruct\n"
     ]
    },
    {
     "data": {
      "text/html": [
       "<div>\n",
       "<style scoped>\n",
       "    .dataframe tbody tr th:only-of-type {\n",
       "        vertical-align: middle;\n",
       "    }\n",
       "\n",
       "    .dataframe tbody tr th {\n",
       "        vertical-align: top;\n",
       "    }\n",
       "\n",
       "    .dataframe thead th {\n",
       "        text-align: right;\n",
       "    }\n",
       "</style>\n",
       "<table border=\"1\" class=\"dataframe\">\n",
       "  <thead>\n",
       "    <tr style=\"text-align: right;\">\n",
       "      <th></th>\n",
       "      <th>post_id</th>\n",
       "      <th>reply_id</th>\n",
       "      <th>prediction</th>\n",
       "    </tr>\n",
       "  </thead>\n",
       "  <tbody>\n",
       "    <tr>\n",
       "      <th>0</th>\n",
       "      <td>7961696982295378594</td>\n",
       "      <td>15902869978243358740</td>\n",
       "      <td>HYPERBOLE</td>\n",
       "    </tr>\n",
       "    <tr>\n",
       "      <th>1</th>\n",
       "      <td>4824587311292975614</td>\n",
       "      <td>4652172244294165548</td>\n",
       "      <td>OTHER</td>\n",
       "    </tr>\n",
       "    <tr>\n",
       "      <th>2</th>\n",
       "      <td>7155693771356046855</td>\n",
       "      <td>18161905213580884688</td>\n",
       "      <td>ANALOGY</td>\n",
       "    </tr>\n",
       "    <tr>\n",
       "      <th>3</th>\n",
       "      <td>5929177359346716605</td>\n",
       "      <td>5855671312721211658</td>\n",
       "      <td>OXYMORON</td>\n",
       "    </tr>\n",
       "    <tr>\n",
       "      <th>4</th>\n",
       "      <td>12099038560420169473</td>\n",
       "      <td>10284801989587274790</td>\n",
       "      <td>ANALOGY</td>\n",
       "    </tr>\n",
       "  </tbody>\n",
       "</table>\n",
       "</div>"
      ],
      "text/plain": [
       "                post_id              reply_id prediction\n",
       "0   7961696982295378594  15902869978243358740  HYPERBOLE\n",
       "1   4824587311292975614   4652172244294165548      OTHER\n",
       "2   7155693771356046855  18161905213580884688    ANALOGY\n",
       "3   5929177359346716605   5855671312721211658   OXYMORON\n",
       "4  12099038560420169473  10284801989587274790    ANALOGY"
      ]
     },
     "execution_count": 3,
     "metadata": {},
     "output_type": "execute_result"
    }
   ],
   "source": [
    "label_rename_map = {\n",
    "    'IM:FALSE ASSERTION': 'FALSE ASSERTION',\n",
    "    'EX:CONTEXT SHIFT': 'CONTEXT SHIFT',\n",
    "    'EX:OXYMORON PARADOX': 'OXYMORON',\n",
    "    'OXYMORON PARADOX': 'OXYMORON',\n",
    "}\n",
    "\n",
    "files = open_files('models_generations_raw/old_prompt')\n",
    "\n",
    "models = {}\n",
    "for file in files:\n",
    "    # estrai il nome modello rimuovendo pattern specifici\n",
    "    model = re.sub(r\"^(fine-tuned-)?|-decoding-\\d+\\.csv$\", \"\", file)\n",
    "    print(f\"Processing model: {model}\")\n",
    "\n",
    "    model_generations = pd.read_csv(os.path.join('models_generations_raw/old_prompt', file))\n",
    "\n",
    "    # applica extract_figure a ogni predizione\n",
    "    y_pred = model_generations['prediction'].apply(extract_figure)\n",
    "\n",
    "    # rinomina le label secondo la mappa\n",
    "    y_pred = y_pred.apply(lambda x: label_rename_map.get(x, x))\n",
    "\n",
    "    # crea DataFrame con post_id, reply_id e prediction\n",
    "    df = pd.DataFrame({\n",
    "        'post_id': model_generations['post_id'],\n",
    "        'reply_id': model_generations['reply_id'],\n",
    "        'prediction': y_pred\n",
    "    })\n",
    "\n",
    "    models[model] = df\n",
    "\n",
    "# Ora models contiene un DataFrame per ogni modello\n",
    "# Per esempio per accedere a uno:\n",
    "models['LLaMAntino-3-ANITA-8B-Inst-DPO-ITA'].head()\n"
   ]
  },
  {
   "cell_type": "code",
   "execution_count": 4,
   "metadata": {},
   "outputs": [
    {
     "name": "stdout",
     "output_type": "stream",
     "text": [
      "Saved predictions for LLaMAntino-3-ANITA-8B-Inst-DPO-ITA to models_generations/LLaMAntino-3-ANITA-8B-Inst-DPO-ITA_predictions.csv\n",
      "Saved predictions for Llama-3.1-8B-Instruct to models_generations/Llama-3.1-8B-Instruct_predictions.csv\n",
      "Saved predictions for Minerva-7B-instruct-v1.0 to models_generations/Minerva-7B-instruct-v1.0_predictions.csv\n",
      "Saved predictions for Ministral-8B-Instruct-2410 to models_generations/Ministral-8B-Instruct-2410_predictions.csv\n",
      "Saved predictions for Qwen2.5-7B-Instruct to models_generations/Qwen2.5-7B-Instruct_predictions.csv\n"
     ]
    }
   ],
   "source": [
    "# crea un file per ogni df in models\n",
    "for model, df in models.items():\n",
    "    output_file = f\"models_generations/{model}_predictions.csv\"\n",
    "    df.to_csv(output_file, index=False)\n",
    "    print(f\"Saved predictions for {model} to {output_file}\")"
   ]
  }
 ],
 "metadata": {
  "kernelspec": {
   "display_name": "venv",
   "language": "python",
   "name": "python3"
  },
  "language_info": {
   "codemirror_mode": {
    "name": "ipython",
    "version": 3
   },
   "file_extension": ".py",
   "mimetype": "text/x-python",
   "name": "python",
   "nbconvert_exporter": "python",
   "pygments_lexer": "ipython3",
   "version": "3.12.3"
  }
 },
 "nbformat": 4,
 "nbformat_minor": 2
}
